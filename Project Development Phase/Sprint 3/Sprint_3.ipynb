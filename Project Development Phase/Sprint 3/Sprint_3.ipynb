{
  "nbformat": 4,
  "nbformat_minor": 0,
  "metadata": {
    "colab": {
      "provenance": []
    },
    "kernelspec": {
      "name": "python3",
      "display_name": "Python 3"
    },
    "language_info": {
      "name": "python"
    }
  },
  "cells": [
    {
      "cell_type": "code",
      "execution_count": null,
      "metadata": {
        "id": "gNJ8LrTG7Pmz"
      },
      "outputs": [],
      "source": [
        "from google.colab import drive\n",
        "drive.mount('/content/drive')\n"
      ]
    },
    {
      "cell_type": "code",
      "source": [
        "import cv2 \n",
        "import numpy as np\n",
        "from google.colab.patches import cv2_imshow\n",
        "from matplotlib import pyplot as plt\n",
        "import librosa\n",
        "from matplotlib import pyplot as plt\n",
        "from PIL import Image\n",
        "#import load model from keras.model\n",
        "from keras.models import load_model\n",
        "#import image from keras\n",
        "from tensorflow.keras.preprocessing import image\n",
        "from keras.models import load_model\n",
        "# Create a VideoCapture object and read from input file\n",
        "# If the input is the camera, pass 0 instead of the video file name\n",
        "cap = cv2.VideoCapture('/content/drive/MyDrive/Dataset/video/forestfire1.mp4')\n",
        " \n",
        "# Check if camera opened successfully\n",
        "if (cap.isOpened()== False): \n",
        "  print(\"Error opening video stream or file\")\n",
        " \n",
        "# Read until video is completed\n",
        "while(cap.isOpened()):\n",
        "  # Capture frame-by-frame\n",
        "  if ret == True:\n",
        "    x=image.img_to_array(frame)\n",
        "    #expand the image shape\n",
        "    x=np.expand_dims(res,axis=0)\n",
        "    model=load_model(\"/content/drive/MyDrive/archive(2)/forest1.h5\")\n",
        "    cv2_imshow(frame)\n",
        "    pred=model. predict(x)\n",
        "    pred = int(pred[0][0])\n",
        "    pred\n",
        "    int(pred)\n",
        "    if pred==0:\n",
        "      print('Forest fire')\n",
        "      break\n",
        "else:\n",
        "      print(\"no danger\")\n",
        "      break\n",
        " \n",
        "# When everything done, release the video capture object\n",
        "cap.release()\n",
        " \n",
        "# Closes all the frames\n",
        "cv2.destroyAllWindows()\n",
        "1/1 [==============================] - 0s 228ms/step\n",
        "Forest fire\n"
      ],
      "metadata": {
        "id": "NL59K57v7inw"
      },
      "execution_count": null,
      "outputs": []
    },
    {
      "cell_type": "code",
      "source": [
        "pip install twilio\n"
      ],
      "metadata": {
        "id": "lQ8vcubp7iqu"
      },
      "execution_count": null,
      "outputs": []
    },
    {
      "cell_type": "code",
      "source": [
        "pip install playsound\n"
      ],
      "metadata": {
        "id": "gt5bnNQ47iti"
      },
      "execution_count": null,
      "outputs": []
    },
    {
      "cell_type": "code",
      "source": [
        "pip install pygobject\n"
      ],
      "metadata": {
        "id": "frM7rAYt7iwg"
      },
      "execution_count": null,
      "outputs": []
    },
    {
      "cell_type": "code",
      "source": [
        "from twilio.rest import Client\n",
        "from playsound import playsound\n",
        "if pred==0:\n",
        "  print('Forest fire')\n",
        "  account_sid='ACfb4e6d0e7b0d25def63044919f1b96e3'\n",
        "  auth_token='f9ae4fc4a617a527da8672e97eefb2d8'\n",
        "  client=Client(account_sid,auth_token)\n",
        "  message=client.messages \\\n",
        "  .create(\n",
        "      body='forest fire is detected,stay alert',\n",
        "      #use twilio free number\n",
        "      from_='+1 302 248 4366',\n",
        "        #to number\n",
        "        to='+91 99400 12164')\n",
        "  print(message.sid)\n",
        "  print(\"Fire detected\")\n",
        "  print(\"SMS Sent!\")\n",
        "elif pred==1:\n",
        "  print('No danger')\n"
      ],
      "metadata": {
        "id": "zIeffhZM7izb"
      },
      "execution_count": null,
      "outputs": []
    },
    {
      "cell_type": "code",
      "source": [],
      "metadata": {
        "id": "xsUrdS4p7i2m"
      },
      "execution_count": null,
      "outputs": []
    },
    {
      "cell_type": "code",
      "source": [],
      "metadata": {
        "id": "BE5puWQt7i5Y"
      },
      "execution_count": null,
      "outputs": []
    },
    {
      "cell_type": "code",
      "source": [],
      "metadata": {
        "id": "ktDAPTNL7i8b"
      },
      "execution_count": null,
      "outputs": []
    },
    {
      "cell_type": "code",
      "source": [],
      "metadata": {
        "id": "y18nTw2m7i_8"
      },
      "execution_count": null,
      "outputs": []
    }
  ]
}