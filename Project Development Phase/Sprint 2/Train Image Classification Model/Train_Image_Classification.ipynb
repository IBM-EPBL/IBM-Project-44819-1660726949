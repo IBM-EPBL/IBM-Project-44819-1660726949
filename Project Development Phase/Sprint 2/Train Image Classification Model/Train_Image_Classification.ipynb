{
  "nbformat": 4,
  "nbformat_minor": 0,
  "metadata": {
    "colab": {
      "provenance": []
    },
    "kernelspec": {
      "name": "python3",
      "display_name": "Python 3"
    },
    "language_info": {
      "name": "python"
    }
  },
  "cells": [
    {
      "cell_type": "code",
      "execution_count": null,
      "metadata": {
        "id": "Vnl_RBs4ptnh"
      },
      "outputs": [],
      "source": [
        "!pip install watson-machine-learning-client\n"
      ]
    },
    {
      "cell_type": "code",
      "source": [
        "!pip install ibm_watson_machine_learning\n"
      ],
      "metadata": {
        "id": "IW2hxBFKp1jZ"
      },
      "execution_count": null,
      "outputs": []
    },
    {
      "cell_type": "code",
      "source": [
        "#Connecting to IBM Cloud from Notebook\n",
        "from ibm_watson_machine_learning import APIClient\n",
        "credentials = {\n",
        "    'url':'https://eu-gb.ml.cloud.ibm.com',\n",
        "    'apikey':\"IPJl2muoiEQuiCN8SlAVWhibUleKXXfaBLhsV1BqG13F\"\n",
        "}\n",
        "Client = APIClient(credentials)\n"
      ],
      "metadata": {
        "id": "VX_cUTA9p1mK"
      },
      "execution_count": null,
      "outputs": []
    },
    {
      "cell_type": "code",
      "source": [
        "Client\n"
      ],
      "metadata": {
        "id": "KWV2uO6gp1ok"
      },
      "execution_count": null,
      "outputs": []
    },
    {
      "cell_type": "code",
      "source": [
        "Client.spaces.get_details()\n"
      ],
      "metadata": {
        "id": "e5Kexmc3p1rJ"
      },
      "execution_count": null,
      "outputs": []
    },
    {
      "cell_type": "code",
      "source": [
        "Client.spaces.list()\n"
      ],
      "metadata": {
        "id": "J4vlYFbip1tq"
      },
      "execution_count": null,
      "outputs": []
    },
    {
      "cell_type": "code",
      "source": [
        "space_uid = '54f66e28-7d03-4808-8e64-b0c3b4826004' #Space User ID\n",
        "space_uid\n"
      ],
      "metadata": {
        "id": "GSQ3iVRxp1wX"
      },
      "execution_count": null,
      "outputs": []
    },
    {
      "cell_type": "code",
      "source": [
        "#Setting created deployment space as default\n",
        "Client.set.default_space(space_uid)\n"
      ],
      "metadata": {
        "id": "PvF4lkwip1zq"
      },
      "execution_count": null,
      "outputs": []
    },
    {
      "cell_type": "code",
      "source": [
        "#Seeing tensorflow asset_id\n",
        "Client.software_specifications.list()\n"
      ],
      "metadata": {
        "id": "b1wdkLziqMHJ"
      },
      "execution_count": null,
      "outputs": []
    },
    {
      "cell_type": "code",
      "source": [
        "software_space_uid = Client.software_specifications.get_uid_by_name('tensorflow_rt22.1-py3.9')\n",
        "software_space_uid\n"
      ],
      "metadata": {
        "id": "3Y89XtfaqMJk"
      },
      "execution_count": null,
      "outputs": []
    },
    {
      "cell_type": "code",
      "source": [
        "model_details = Client.repository.store_model(model=\"/content/forest_fire_detection.tgz\",meta_props={\n",
        "    Client.repository.ModelMetaNames.NAME:\"CNN Model for Forest fire detection\",\n",
        "    Client.repository.ModelMetaNames.TYPE:\"tensorflow_2.7\",\n",
        "    Client.repository.ModelMetaNames.SOFTWARE_SPEC_UID:software_space_uid\n",
        "})\n"
      ],
      "metadata": {
        "id": "YyCMavNxqMML"
      },
      "execution_count": null,
      "outputs": []
    },
    {
      "cell_type": "code",
      "source": [
        "model_details"
      ],
      "metadata": {
        "id": "qza1XbW8qXCW"
      },
      "execution_count": null,
      "outputs": []
    },
    {
      "cell_type": "code",
      "source": [
        "model_id = Client.repository.get_model_uid(model_details)\n",
        "model_id"
      ],
      "metadata": {
        "id": "CCPlHXLLqXE7"
      },
      "execution_count": null,
      "outputs": []
    },
    {
      "cell_type": "code",
      "source": [
        "#Downloading the model from IBM Cloud\n",
        "Client.repository.download(model_id,'ffd_model.tgz')\n"
      ],
      "metadata": {
        "id": "wIwL_IxeqXH3"
      },
      "execution_count": null,
      "outputs": []
    },
    {
      "cell_type": "code",
      "source": [],
      "metadata": {
        "id": "PixRJvnIqXJ8"
      },
      "execution_count": null,
      "outputs": []
    },
    {
      "cell_type": "code",
      "source": [],
      "metadata": {
        "id": "fMhsDgg9qXMi"
      },
      "execution_count": null,
      "outputs": []
    },
    {
      "cell_type": "code",
      "source": [],
      "metadata": {
        "id": "wOR2pfaZqXO0"
      },
      "execution_count": null,
      "outputs": []
    },
    {
      "cell_type": "code",
      "source": [],
      "metadata": {
        "id": "n0JYdIrUqXRH"
      },
      "execution_count": null,
      "outputs": []
    },
    {
      "cell_type": "code",
      "source": [],
      "metadata": {
        "id": "zW-7wksiqXUg"
      },
      "execution_count": null,
      "outputs": []
    },
    {
      "cell_type": "code",
      "source": [],
      "metadata": {
        "id": "d1WtMWq7qMPm"
      },
      "execution_count": null,
      "outputs": []
    }
  ]
}