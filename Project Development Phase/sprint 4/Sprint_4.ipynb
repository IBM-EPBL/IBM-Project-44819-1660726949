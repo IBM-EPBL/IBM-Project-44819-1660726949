{
  "nbformat": 4,
  "nbformat_minor": 0,
  "metadata": {
    "colab": {
      "provenance": []
    },
    "kernelspec": {
      "name": "python3",
      "display_name": "Python 3"
    },
    "language_info": {
      "name": "python"
    }
  },
  "cells": [
    {
      "cell_type": "markdown",
      "source": [
        "Importing The ImageDataGenerator Library\n",
        "\n"
      ],
      "metadata": {
        "id": "ZiUpHKnFmoaS"
      }
    },
    {
      "cell_type": "code",
      "execution_count": null,
      "metadata": {
        "id": "BnHBdAWjmW49"
      },
      "outputs": [],
      "source": [
        "pip install tensorflow\n",
        "!pip install opencv-python\n",
        "!pip install opencv-contrib-python\n",
        "import tensorflow as tf\n",
        "import numpy as np\n",
        "from tensorflow import keras\n",
        "import os\n",
        "import cv2\n",
        "from tensorflow.keras.preprocessing.image import ImageDataGenerator\n",
        "from tensorflow.keras.preprocessing import image"
      ]
    },
    {
      "cell_type": "markdown",
      "source": [
        "Define the parameters/arguments for ImageDataGenerator class\n",
        "\n"
      ],
      "metadata": {
        "id": "LBe_bEw3m55z"
      }
    },
    {
      "cell_type": "code",
      "source": [
        "train=ImageDataGenerator(rescale=1./255,\n",
        "                                 shear_range=0.2,\n",
        "                                 rotation_range=180,\n",
        "                                 zoom_range=0.2,\n",
        "                                 horizontal_flip=True)\n",
        "train = ImageDataGenerator(rescale=1/255)\n",
        "test = ImageDataGenerator(rescale=1/255)"
      ],
      "metadata": {
        "id": "T-7N6xP3m3jO"
      },
      "execution_count": null,
      "outputs": []
    },
    {
      "cell_type": "markdown",
      "source": [
        "Applying ImageDataGenerator functionality to trainset\n",
        "\n"
      ],
      "metadata": {
        "id": "fGEkojfem_Gx"
      }
    },
    {
      "cell_type": "code",
      "source": [
        "train_dataset = train.flow_from_directory(\"/content/drive/MyDrive/Dataset/train_set\",\n",
        "                                          target_size=(128,128),\n",
        "                                          batch_size = 32,\n",
        "                                          class_mode = 'binary' )\n"
      ],
      "metadata": {
        "id": "ofdCz_nHm3mu"
      },
      "execution_count": null,
      "outputs": []
    },
    {
      "cell_type": "markdown",
      "source": [
        "Applying ImageDataGenerator functionality to testset\n",
        "\n"
      ],
      "metadata": {
        "id": "GdRBz27OnE6p"
      }
    },
    {
      "cell_type": "code",
      "source": [
        "test_dataset = test.flow_from_directory(\"/content/drive/MyDrive/Dataset/test_set\",\n",
        "                                          target_size=(128,128),\n",
        "                                          batch_size = 32,\n",
        "                                          class_mode = 'binary' )\n"
      ],
      "metadata": {
        "id": "1UjMfyxOm3qG"
      },
      "execution_count": null,
      "outputs": []
    },
    {
      "cell_type": "code",
      "source": [
        "test_dataset.class_indices\n"
      ],
      "metadata": {
        "id": "3_YELhpkm3tO"
      },
      "execution_count": null,
      "outputs": []
    },
    {
      "cell_type": "markdown",
      "source": [
        "Import model building libraries\n",
        "\n"
      ],
      "metadata": {
        "id": "8aUm-tAenfwN"
      }
    },
    {
      "cell_type": "code",
      "source": [
        "#to define linear initialisation import sequential\n",
        "from keras.models import Sequential\n",
        "#to add layer import Dense\n",
        "from keras.layers import Dense\n",
        "#to create convolution kernel import convolution2D\n",
        "from keras.layers import Convolution2D\n",
        "#import Maxpooling layer\n",
        "from keras.layers import MaxPooling2D\n",
        "#import flatten layer\n",
        "from keras.layers import Flatten\n",
        "import warnings\n",
        "warnings.filterwarnings('ignore')\n",
        "\n",
        "\n"
      ],
      "metadata": {
        "id": "6AwYUhxmm3wU"
      },
      "execution_count": null,
      "outputs": []
    },
    {
      "cell_type": "markdown",
      "source": [
        "Initializing the model\n",
        "\n"
      ],
      "metadata": {
        "id": "00wRf512nnRq"
      }
    },
    {
      "cell_type": "code",
      "source": [
        "model =Sequential()\n"
      ],
      "metadata": {
        "id": "hSfArxTZm3z7"
      },
      "execution_count": null,
      "outputs": []
    },
    {
      "cell_type": "markdown",
      "source": [
        "Add CNN Layer\n",
        "\n"
      ],
      "metadata": {
        "id": "HHokoenJnsSc"
      }
    },
    {
      "cell_type": "code",
      "source": [
        "model.add(Convolution2D(32,(3,3),input_shape=(128,128,3),activation='relu'))\n",
        "model.add(MaxPooling2D(pool_size=(2,2)))\n",
        "model.add(Convolution2D(32,(3,3),activation='relu'))\n",
        "model.add(MaxPooling2D(pool_size=(2,2)))\n",
        "model.add(Convolution2D(32,(3,3),activation='relu'))\n",
        "model.add(MaxPooling2D(pool_size=(2,2)))\n",
        "model.add(Convolution2D(32,(3,3),activation='relu'))\n",
        "model.add(MaxPooling2D(pool_size=(2,2)))\n",
        "model.add(Flatten())\n"
      ],
      "metadata": {
        "id": "K4oJsU31m33L"
      },
      "execution_count": null,
      "outputs": []
    },
    {
      "cell_type": "markdown",
      "source": [
        "Add Hidden Layer\n",
        "\n"
      ],
      "metadata": {
        "id": "6s9qWtwinwve"
      }
    },
    {
      "cell_type": "code",
      "source": [
        "model.add(Dense(150,activation='relu'))\n",
        "\n",
        "model.add(Dense(1,activation='sigmoid'))\n"
      ],
      "metadata": {
        "id": "CtZmJtaBnwLY"
      },
      "execution_count": null,
      "outputs": []
    },
    {
      "cell_type": "markdown",
      "source": [
        "Configure the learning process\n"
      ],
      "metadata": {
        "id": "-sUi2XQ0n3v3"
      }
    },
    {
      "cell_type": "code",
      "source": [
        "model.compile(loss = 'binary_crossentropy',\n",
        "              optimizer = \"adam\",\n",
        "              metrics = [\"accuracy\"])\n"
      ],
      "metadata": {
        "id": "-SkTiuG3oJqf"
      },
      "execution_count": null,
      "outputs": []
    },
    {
      "cell_type": "markdown",
      "source": [
        "Train the model\n",
        "\n"
      ],
      "metadata": {
        "id": "jPCmeoyHoOZa"
      }
    },
    {
      "cell_type": "code",
      "source": [
        "model.fit_generator(x_train,steps_per_epoch=14,epochs=5,validation_data=x_test,validation_steps=4)"
      ],
      "metadata": {
        "id": "nPeRWmuwoPyD"
      },
      "execution_count": null,
      "outputs": []
    },
    {
      "cell_type": "markdown",
      "source": [
        "Save The Model\n",
        "\n"
      ],
      "metadata": {
        "id": "NkTPtoSIoOWB"
      }
    },
    {
      "cell_type": "code",
      "source": [
        "model.save(\"/content/drive/MyDrive/archive(1)/forest1.h5\")\n"
      ],
      "metadata": {
        "id": "gAt6KgI5oePd"
      },
      "execution_count": null,
      "outputs": []
    },
    {
      "cell_type": "markdown",
      "source": [
        "Predictions"
      ],
      "metadata": {
        "id": "msstpONCopjS"
      }
    },
    {
      "cell_type": "code",
      "source": [
        "predictions = model.predict(test_dataset)\n",
        "predictions = np.round(predictions)\n"
      ],
      "metadata": {
        "id": "-jP6nLvVohy_"
      },
      "execution_count": null,
      "outputs": []
    },
    {
      "cell_type": "code",
      "source": [
        "predictions"
      ],
      "metadata": {
        "id": "F454lAUHotqz"
      },
      "execution_count": null,
      "outputs": []
    },
    {
      "cell_type": "code",
      "source": [
        "print(len(predictions))\n"
      ],
      "metadata": {
        "id": "cBevVNS6oxU1"
      },
      "execution_count": null,
      "outputs": []
    },
    {
      "cell_type": "code",
      "source": [
        "#import load_model from keras.model\n",
        "from keras.models import load_model\n",
        "#import image class from keras\n",
        "import tensorflow as tf\n",
        "from tensorflow.keras.preprocessing import image\n",
        "#import numpy\n",
        "import numpy as np\n",
        "#import cv2\n",
        "import cv2\n"
      ],
      "metadata": {
        "id": "SiJMAU2zoxX4"
      },
      "execution_count": null,
      "outputs": []
    },
    {
      "cell_type": "code",
      "source": [
        "#load the saved model\n",
        "model = load_model(\"/content/drive/MyDrive/archive(1)/forest1.h5\")\n"
      ],
      "metadata": {
        "id": "4dyKTFweoxa7"
      },
      "execution_count": null,
      "outputs": []
    },
    {
      "cell_type": "code",
      "source": [
        "def predictImage(filename):\n",
        "  img1 = image.load_img(filename,target_size=(128,128))\n",
        "  Y = image.img_to_array(img1)\n",
        "  X = np.expand_dims(Y,axis=0)\n",
        "  val = model.predict(X)\n",
        "  print(val)\n",
        "  if val == 1:\n",
        "    print(\" fire\")\n",
        "  elif val == 0:\n",
        "      print(\"no fire\")\n"
      ],
      "metadata": {
        "id": "GEwpQMnQoxdl"
      },
      "execution_count": null,
      "outputs": []
    },
    {
      "cell_type": "code",
      "source": [
        "predictImage(\"/content/drive/MyDrive/Dataset/test_set/with fire/19464620_401.jpg\")\n"
      ],
      "metadata": {
        "id": "0QpbdrUVoxgv"
      },
      "execution_count": null,
      "outputs": []
    },
    {
      "cell_type": "markdown",
      "source": [
        "OpenCV For Video Processing\n",
        "\n"
      ],
      "metadata": {
        "id": "P1BgEBuqo-yJ"
      }
    },
    {
      "cell_type": "code",
      "source": [
        "pip install twilio"
      ],
      "metadata": {
        "id": "1qhKhLS4oxjT"
      },
      "execution_count": null,
      "outputs": []
    },
    {
      "cell_type": "code",
      "source": [
        "pip install playsound\n"
      ],
      "metadata": {
        "id": "XUju0YBZoxmU"
      },
      "execution_count": null,
      "outputs": []
    },
    {
      "cell_type": "code",
      "source": [
        "#import opencv librariy\n",
        "import cv2\n",
        "#import numpy\n",
        "import numpy as np\n",
        "#import image function from keras\n",
        "from keras.preprocessing import image\n",
        "#import load_model from keras\n",
        "from keras.models import load_model\n",
        "#import client from twilio API\n",
        "from twilio.rest import Client\n",
        "#imort playsound package\n",
        "from playsound import playsound\n"
      ],
      "metadata": {
        "id": "jMvAqUs5oxpb"
      },
      "execution_count": null,
      "outputs": []
    },
    {
      "cell_type": "code",
      "source": [
        "#load the saved model\n",
        "model = load_model(r'/content/drive/MyDrive/archive(1)/forest1.h5')\n",
        "#define video\n",
        "video = cv2.VideoCapture('/content/Fighting Fire with Fire _ Explained in 30 Seconds.mp4')\n",
        "#define the features\n",
        "name = ['forest','with forest']\n"
      ],
      "metadata": {
        "id": "UllKREtGpGYp"
      },
      "execution_count": null,
      "outputs": []
    },
    {
      "cell_type": "markdown",
      "source": [
        "Creating An Account In Twilio Service\n",
        "\n"
      ],
      "metadata": {
        "id": "D7Pz7mRlpLQf"
      }
    },
    {
      "cell_type": "code",
      "source": [
        "account_sid='ACfb4e6d0e7b0d25def63044919f1b96e3'\n",
        "auth_token='f9ae4fc4a617a527da8672e97eefb2d8'\n",
        "client=Client(account_sid,auth_token)\n",
        "message=client.messages \\\n",
        ".create(\n",
        "      body='Forest Fire is detected, stay alert',\n",
        "      from_='+1 302 248 4366',\n",
        "      to='+91 99400 12164'\n",
        ")\n",
        "print(message.sid)\n"
      ],
      "metadata": {
        "id": "pKfhlRbIpGcF"
      },
      "execution_count": null,
      "outputs": []
    },
    {
      "cell_type": "markdown",
      "source": [
        "Sending Alert Message\n",
        "\n"
      ],
      "metadata": {
        "id": "_lGTFdBgpQCx"
      }
    },
    {
      "cell_type": "code",
      "source": [
        "pip install pygobject\n"
      ],
      "metadata": {
        "id": "1GMXVNHCpGgu"
      },
      "execution_count": null,
      "outputs": []
    },
    {
      "cell_type": "code",
      "source": [
        "def message(val):\n",
        "  if val==1:\n",
        "    from twilio.rest import Client\n",
        "    print('Forest fire')\n",
        "    account_sid='ACfb4e6d0e7b0d25def63044919f1b96e3'\n",
        "    auth_token='f9ae4fc4a617a527da8672e97eefb2d8'\n",
        "    client=Client(account_sid,auth_token)\n",
        "    message=client.messages \\\n",
        "     .create(\n",
        "        body='forest fire is detected, stay alert',\n",
        "        #use twilio free number\n",
        "        from_='+1 302 248 4366',\n",
        "        #to number\n",
        "        to='+91 99400 12164')\n",
        "    print(message.sid)\n",
        "    print(\"Fire detected\")\n",
        "    print(\"SMS Sent!\")\n",
        "  elif val==0:\n",
        "    print('No Fire')\n"
      ],
      "metadata": {
        "id": "7HWSe32dpGn4"
      },
      "execution_count": null,
      "outputs": []
    },
    {
      "cell_type": "code",
      "source": [
        "from matplotlib import pyplot as plt\n",
        "#import load model from keras.model\n",
        "from keras.models import load_model\n",
        "#import image from keras\n",
        "from tensorflow.keras.preprocessing import image\n",
        "img1 = image.load_img('/content/drive/MyDrive/Dataset/test_set/with fire/Wild_fires.jpg',target_size=(128,128))\n",
        "Y = image.img_to_array(img1)\n",
        "x = np.expand_dims(Y,axis=0)\n",
        "val = model.predict(x)\n",
        "plt.imshow(img1)\n",
        "plt.show()\n",
        "message(val)\n"
      ],
      "metadata": {
        "id": "HtvXgHP8pGra"
      },
      "execution_count": null,
      "outputs": []
    },
    {
      "cell_type": "code",
      "source": [
        "img2 = image.load_img('/content/drive/MyDrive/Dataset/test_set/forest/1200px_Mountainarea.jpg',target_size=(128,128))\n",
        "Y = image.img_to_array(img2)\n",
        "x = np.expand_dims(Y,axis=0)\n",
        "val = model.predict(x)\n",
        "plt.imshow(img2)\n",
        "plt.show()\n",
        "message(val)\n",
        "\n",
        "\n",
        "\n"
      ],
      "metadata": {
        "id": "wTUDjfUlpWvz"
      },
      "execution_count": null,
      "outputs": []
    },
    {
      "cell_type": "code",
      "source": [],
      "metadata": {
        "id": "PggbeP87pWyZ"
      },
      "execution_count": null,
      "outputs": []
    },
    {
      "cell_type": "code",
      "source": [],
      "metadata": {
        "id": "BUFIzjWFpW1A"
      },
      "execution_count": null,
      "outputs": []
    },
    {
      "cell_type": "code",
      "source": [],
      "metadata": {
        "id": "LHY3iYtZpW4c"
      },
      "execution_count": null,
      "outputs": []
    }
  ]
}