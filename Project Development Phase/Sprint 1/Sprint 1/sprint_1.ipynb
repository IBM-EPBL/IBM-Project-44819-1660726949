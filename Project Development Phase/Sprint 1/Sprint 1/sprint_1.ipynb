{
  "nbformat": 4,
  "nbformat_minor": 0,
  "metadata": {
    "colab": {
      "provenance": []
    },
    "kernelspec": {
      "name": "python3",
      "display_name": "Python 3"
    },
    "language_info": {
      "name": "python"
    }
  },
  "cells": [
    {
      "cell_type": "code",
      "execution_count": null,
      "metadata": {
        "id": "Go1xd55t249C"
      },
      "outputs": [],
      "source": [
        "import matplotlib.pyplot as plt\n",
        "import numpy as np\n",
        "import pandas as pd\n",
        "\n",
        "\n",
        "\n",
        "from sklearn import metrics\n",
        "from sklearn.metrics import classification_report,confusion_matrix\n"
      ]
    },
    {
      "cell_type": "code",
      "source": [
        "import warnings\n",
        "warnings.filterwarnings(action=\"ignore\")\n",
        "%matplotlib inline\n",
        "pd.set_option(\"display.max_rows\", 1000) \n",
        "pd.set_option(\"display.max_columns\", 1000)\n"
      ],
      "metadata": {
        "id": "5gEzI5ph29_b"
      },
      "execution_count": null,
      "outputs": []
    },
    {
      "cell_type": "code",
      "source": [
        "fires = pd.read_csv(\"/content/drive/MyDrive/forestfires.csv\")    #reading the dataset\n",
        "fires.head(15)    #show the first 15 instances of dataset"
      ],
      "metadata": {
        "id": "jicakYi52-CA"
      },
      "execution_count": null,
      "outputs": []
    },
    {
      "cell_type": "code",
      "source": [
        "#show the last 10 instances of dataset\n",
        "fires.tail(10)\n"
      ],
      "metadata": {
        "id": "7aeTlRdM2-E0"
      },
      "execution_count": null,
      "outputs": []
    },
    {
      "cell_type": "code",
      "source": [
        "#generate descriptive statistics of each attribute\n",
        "fires.describe().T\n"
      ],
      "metadata": {
        "id": "QpR6SKYF2-I0"
      },
      "execution_count": null,
      "outputs": []
    },
    {
      "cell_type": "code",
      "source": [
        "#given area of land burnt, but we have to predict if there is fire or not so changing values of area to 0 and 1 only\n",
        "#here 0 represet there is not fire and 1 represent fire, changing all values of area which are greater than 0 to 1\n",
        "fires['area'].values[fires['area'].values > 0] = 1\n",
        "\n",
        "#renaming the area attribute to output for clear understanding\n",
        "fires = fires.rename(columns={'area': 'output'})\n",
        "fires.head(5)\n"
      ],
      "metadata": {
        "id": "xc4x8yXc2-L_"
      },
      "execution_count": null,
      "outputs": []
    },
    {
      "cell_type": "code",
      "source": [
        "#Compute pairwise correlation of columns\n",
        "fires.corr()\n"
      ],
      "metadata": {
        "id": "kTzt5Qit3RXj"
      },
      "execution_count": null,
      "outputs": []
    }
  ]
}